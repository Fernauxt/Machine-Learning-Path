{
 "cells": [
  {
   "cell_type": "markdown",
   "id": "89bfecc0-58ca-4444-a54d-21ddbe70348d",
   "metadata": {},
   "source": [
    "## Modul 2 | Supervised and Unsupervised"
   ]
  },
  {
   "cell_type": "markdown",
   "id": "7bca4ab7-7bd5-49cf-acf4-080c34c7283a",
   "metadata": {
    "jp-MarkdownHeadingCollapsed": true
   },
   "source": [
    "### Latihan SciKit Learn Decision Tree"
   ]
  },
  {
   "cell_type": "code",
   "execution_count": 36,
   "id": "5592f5db-4a7b-42ce-96ca-9e6d691e51f2",
   "metadata": {},
   "outputs": [],
   "source": [
    "import sklearn\n",
    "from sklearn import datasets\n",
    "import pandas as pd"
   ]
  },
  {
   "cell_type": "code",
   "execution_count": 37,
   "id": "df29a5eb-2909-44c4-883f-c7088af9ca22",
   "metadata": {},
   "outputs": [],
   "source": [
    "# load iris dataset\n",
    "anemia = pd.read_csv('sample_data/diagnosed_cbc_data_v4.csv')"
   ]
  },
  {
   "cell_type": "code",
   "execution_count": 38,
   "id": "4764f31d-1bfc-4887-96f6-2986fd312ee9",
   "metadata": {},
   "outputs": [
    {
     "name": "stdout",
     "output_type": "stream",
     "text": [
      "<class 'pandas.core.frame.DataFrame'>\n",
      "RangeIndex: 1281 entries, 0 to 1280\n",
      "Data columns (total 15 columns):\n",
      " #   Column     Non-Null Count  Dtype  \n",
      "---  ------     --------------  -----  \n",
      " 0   WBC        1281 non-null   float64\n",
      " 1   LYMp       1281 non-null   float64\n",
      " 2   NEUTp      1281 non-null   float64\n",
      " 3   LYMn       1281 non-null   float64\n",
      " 4   NEUTn      1281 non-null   float64\n",
      " 5   RBC        1281 non-null   float64\n",
      " 6   HGB        1281 non-null   float64\n",
      " 7   HCT        1281 non-null   float64\n",
      " 8   MCV        1281 non-null   float64\n",
      " 9   MCH        1281 non-null   float64\n",
      " 10  MCHC       1281 non-null   float64\n",
      " 11  PLT        1281 non-null   float64\n",
      " 12  PDW        1281 non-null   float64\n",
      " 13  PCT        1281 non-null   float64\n",
      " 14  Diagnosis  1281 non-null   object \n",
      "dtypes: float64(14), object(1)\n",
      "memory usage: 150.2+ KB\n"
     ]
    },
    {
     "data": {
      "text/html": [
       "<div>\n",
       "<style scoped>\n",
       "    .dataframe tbody tr th:only-of-type {\n",
       "        vertical-align: middle;\n",
       "    }\n",
       "\n",
       "    .dataframe tbody tr th {\n",
       "        vertical-align: top;\n",
       "    }\n",
       "\n",
       "    .dataframe thead th {\n",
       "        text-align: right;\n",
       "    }\n",
       "</style>\n",
       "<table border=\"1\" class=\"dataframe\">\n",
       "  <thead>\n",
       "    <tr style=\"text-align: right;\">\n",
       "      <th></th>\n",
       "      <th>WBC</th>\n",
       "      <th>LYMp</th>\n",
       "      <th>NEUTp</th>\n",
       "      <th>LYMn</th>\n",
       "      <th>NEUTn</th>\n",
       "      <th>RBC</th>\n",
       "      <th>HGB</th>\n",
       "      <th>HCT</th>\n",
       "      <th>MCV</th>\n",
       "      <th>MCH</th>\n",
       "      <th>MCHC</th>\n",
       "      <th>PLT</th>\n",
       "      <th>PDW</th>\n",
       "      <th>PCT</th>\n",
       "      <th>Diagnosis</th>\n",
       "    </tr>\n",
       "  </thead>\n",
       "  <tbody>\n",
       "    <tr>\n",
       "      <th>0</th>\n",
       "      <td>10.0</td>\n",
       "      <td>43.2</td>\n",
       "      <td>50.1</td>\n",
       "      <td>4.3</td>\n",
       "      <td>5.0</td>\n",
       "      <td>2.77</td>\n",
       "      <td>7.3</td>\n",
       "      <td>24.2</td>\n",
       "      <td>87.7</td>\n",
       "      <td>26.3</td>\n",
       "      <td>30.1</td>\n",
       "      <td>189.0</td>\n",
       "      <td>12.5</td>\n",
       "      <td>0.17</td>\n",
       "      <td>Normocytic hypochromic anemia</td>\n",
       "    </tr>\n",
       "    <tr>\n",
       "      <th>1</th>\n",
       "      <td>10.0</td>\n",
       "      <td>42.4</td>\n",
       "      <td>52.3</td>\n",
       "      <td>4.2</td>\n",
       "      <td>5.3</td>\n",
       "      <td>2.84</td>\n",
       "      <td>7.3</td>\n",
       "      <td>25.0</td>\n",
       "      <td>88.2</td>\n",
       "      <td>25.7</td>\n",
       "      <td>20.2</td>\n",
       "      <td>180.0</td>\n",
       "      <td>12.5</td>\n",
       "      <td>0.16</td>\n",
       "      <td>Normocytic hypochromic anemia</td>\n",
       "    </tr>\n",
       "    <tr>\n",
       "      <th>2</th>\n",
       "      <td>7.2</td>\n",
       "      <td>30.7</td>\n",
       "      <td>60.7</td>\n",
       "      <td>2.2</td>\n",
       "      <td>4.4</td>\n",
       "      <td>3.97</td>\n",
       "      <td>9.0</td>\n",
       "      <td>30.5</td>\n",
       "      <td>77.0</td>\n",
       "      <td>22.6</td>\n",
       "      <td>29.5</td>\n",
       "      <td>148.0</td>\n",
       "      <td>14.3</td>\n",
       "      <td>0.14</td>\n",
       "      <td>Iron deficiency anemia</td>\n",
       "    </tr>\n",
       "    <tr>\n",
       "      <th>3</th>\n",
       "      <td>6.0</td>\n",
       "      <td>30.2</td>\n",
       "      <td>63.5</td>\n",
       "      <td>1.8</td>\n",
       "      <td>3.8</td>\n",
       "      <td>4.22</td>\n",
       "      <td>3.8</td>\n",
       "      <td>32.8</td>\n",
       "      <td>77.9</td>\n",
       "      <td>23.2</td>\n",
       "      <td>29.8</td>\n",
       "      <td>143.0</td>\n",
       "      <td>11.3</td>\n",
       "      <td>0.12</td>\n",
       "      <td>Iron deficiency anemia</td>\n",
       "    </tr>\n",
       "    <tr>\n",
       "      <th>4</th>\n",
       "      <td>4.2</td>\n",
       "      <td>39.1</td>\n",
       "      <td>53.7</td>\n",
       "      <td>1.6</td>\n",
       "      <td>2.3</td>\n",
       "      <td>3.93</td>\n",
       "      <td>0.4</td>\n",
       "      <td>316.0</td>\n",
       "      <td>80.6</td>\n",
       "      <td>23.9</td>\n",
       "      <td>29.7</td>\n",
       "      <td>236.0</td>\n",
       "      <td>12.8</td>\n",
       "      <td>0.22</td>\n",
       "      <td>Normocytic hypochromic anemia</td>\n",
       "    </tr>\n",
       "  </tbody>\n",
       "</table>\n",
       "</div>"
      ],
      "text/plain": [
       "    WBC  LYMp  NEUTp  LYMn  NEUTn   RBC  HGB    HCT   MCV   MCH  MCHC    PLT  \\\n",
       "0  10.0  43.2   50.1   4.3    5.0  2.77  7.3   24.2  87.7  26.3  30.1  189.0   \n",
       "1  10.0  42.4   52.3   4.2    5.3  2.84  7.3   25.0  88.2  25.7  20.2  180.0   \n",
       "2   7.2  30.7   60.7   2.2    4.4  3.97  9.0   30.5  77.0  22.6  29.5  148.0   \n",
       "3   6.0  30.2   63.5   1.8    3.8  4.22  3.8   32.8  77.9  23.2  29.8  143.0   \n",
       "4   4.2  39.1   53.7   1.6    2.3  3.93  0.4  316.0  80.6  23.9  29.7  236.0   \n",
       "\n",
       "    PDW   PCT                      Diagnosis  \n",
       "0  12.5  0.17  Normocytic hypochromic anemia  \n",
       "1  12.5  0.16  Normocytic hypochromic anemia  \n",
       "2  14.3  0.14         Iron deficiency anemia  \n",
       "3  11.3  0.12         Iron deficiency anemia  \n",
       "4  12.8  0.22  Normocytic hypochromic anemia  "
      ]
     },
     "execution_count": 38,
     "metadata": {},
     "output_type": "execute_result"
    }
   ],
   "source": [
    "# Info dataset\n",
    "anemia.info()\n",
    "\n",
    "# Info 5 dataset teratas\n",
    "anemia.head()"
   ]
  },
  {
   "cell_type": "code",
   "execution_count": 39,
   "id": "1e8f8122-da8c-4e2d-9f1d-e824ec2f002f",
   "metadata": {},
   "outputs": [],
   "source": [
    "x = anemia.drop('Diagnosis', axis=1)\n",
    "y = anemia['Diagnosis']\n",
    "\n",
    "from sklearn.model_selection import train_test_split\n",
    "\n",
    "# membagi dataset menjadi training dan testing \n",
    "x_train, x_test, y_train, y_test = train_test_split(x, y, test_size=0.2, random_state=1)"
   ]
  },
  {
   "cell_type": "code",
   "execution_count": 40,
   "id": "fd1d28b0-4abe-4373-9ec7-1878917b8089",
   "metadata": {},
   "outputs": [],
   "source": [
    "from sklearn.tree import DecisionTreeClassifier"
   ]
  },
  {
   "cell_type": "code",
   "execution_count": 41,
   "id": "fe5162db-4aed-42b0-8e95-35000ae76b8e",
   "metadata": {},
   "outputs": [],
   "source": [
    "# model Dec. Tree\n",
    "tree_model = DecisionTreeClassifier()\n",
    "\n",
    "# train model\n",
    "tree_model = tree_model.fit(x_train, y_train)"
   ]
  },
  {
   "cell_type": "code",
   "execution_count": 42,
   "id": "1d154da0-7cb2-44b3-85cf-d7ca8fd945b9",
   "metadata": {},
   "outputs": [
    {
     "name": "stdout",
     "output_type": "stream",
     "text": [
      "Accuracy:  0.981\n"
     ]
    }
   ],
   "source": [
    "# model evaluation\n",
    "from sklearn.metrics import accuracy_score\n",
    "\n",
    "y_pred = tree_model.predict(x_test)\n",
    "acc_score = round(accuracy_score(y_pred, y_test), 3)\n",
    "\n",
    "print('Accuracy: ', acc_score)"
   ]
  },
  {
   "cell_type": "code",
   "execution_count": 43,
   "id": "cf6c2ba7-9c1a-4d35-b80b-c1cc24a080bb",
   "metadata": {
    "scrolled": true
   },
   "outputs": [
    {
     "name": "stdout",
     "output_type": "stream",
     "text": [
      "WBC:\n",
      " Mean: 7.8627166276346605\n",
      " Median: 7.4\n",
      "\n",
      "LYMp:\n",
      " Mean: 25.845\n",
      " Median: 25.845\n",
      "\n",
      "NEUTp:\n",
      " Mean: 77.511\n",
      " Median: 77.511\n",
      "\n",
      "LYMn:\n",
      " Mean: 1.88076\n",
      " Median: 1.88076\n",
      "\n",
      "NEUTn:\n",
      " Mean: 5.14094\n",
      " Median: 5.14094\n",
      "\n",
      "RBC:\n",
      " Mean: 4.708266978922716\n",
      " Median: 4.6\n",
      "\n",
      "HGB:\n",
      " Mean: 12.184551131928181\n",
      " Median: 12.3\n",
      "\n",
      "HCT:\n",
      " Mean: 46.1526\n",
      " Median: 46.1526\n",
      "\n",
      "MCV:\n",
      " Mean: 85.79391881342701\n",
      " Median: 86.6\n",
      "\n",
      "MCH:\n",
      " Mean: 32.084839968774396\n",
      " Median: 27.8\n",
      "\n",
      "MCHC:\n",
      " Mean: 31.739149102263855\n",
      " Median: 32.0\n",
      "\n",
      "PLT:\n",
      " Mean: 229.9814207650273\n",
      " Median: 213.0\n",
      "\n",
      "PDW:\n",
      " Mean: 14.312511572747853\n",
      " Median: 14.31251157\n",
      "\n",
      "PCT:\n",
      " Mean: 0.26028\n",
      " Median: 0.26028\n",
      "\n"
     ]
    }
   ],
   "source": [
    "# looking for mean and median for each columns to be used for prediction\n",
    "# the purpose is to prevent value misinput\n",
    "from statistics import mean, median\n",
    "\n",
    "columns = anemia.columns # get column names\n",
    "\n",
    "stats = {} # empty dict to store mean and median score\n",
    "\n",
    "# loop for each column\n",
    "for col in columns:\n",
    "    col_data = anemia[col].dropna()\n",
    "\n",
    "    # Check if the column contains numeric data\n",
    "    try:\n",
    "        col_data = pd.to_numeric(col_data, errors='raise')\n",
    "    except ValueError:\n",
    "        continue  # Skip non-numeric columns\n",
    "        \n",
    "    if col_data.empty:\n",
    "        continue # skips empty column\n",
    "\n",
    "    # calculate mean and median\n",
    "    col_mean = mean(col_data)\n",
    "    col_median = median(col_data)\n",
    "\n",
    "    # store mean and median score\n",
    "    stats[col] = {'mean': col_mean, 'median': col_median}\n",
    "\n",
    "# Loop for print results\n",
    "for col, value in stats.items():\n",
    "    print(f\"{col}:\")\n",
    "    print(f\" Mean: {value['mean']}\")\n",
    "    print(f\" Median: {value['median']}\")\n",
    "    print()"
   ]
  },
  {
   "cell_type": "code",
   "execution_count": 44,
   "id": "3752b383-714f-490c-8a24-d1e1e40e7dc2",
   "metadata": {},
   "outputs": [
    {
     "name": "stdout",
     "output_type": "stream",
     "text": [
      "Class names: \n",
      "Normocytic hypochromic anemia\n",
      "Iron deficiency anemia\n",
      "Other microcytic anemia\n",
      "Leukemia\n",
      "Healthy\n",
      "Thrombocytopenia\n",
      "Normocytic normochromic anemia\n",
      "Leukemia with thrombocytopenia\n",
      "Macrocytic anemia\n"
     ]
    }
   ],
   "source": [
    "# getting class_names\n",
    "label_col = anemia['Diagnosis']\n",
    "\n",
    "# Get unique class names\n",
    "cl_names = label_col.unique()\n",
    "\n",
    "print(\"Class names: \")\n",
    "for name in cl_names:\n",
    "    print(name)"
   ]
  },
  {
   "cell_type": "code",
   "execution_count": 45,
   "id": "0c73d7de-1a7a-4063-874d-1e5d1970b63c",
   "metadata": {},
   "outputs": [
    {
     "name": "stdout",
     "output_type": "stream",
     "text": [
      "Leukemia\n"
     ]
    },
    {
     "name": "stderr",
     "output_type": "stream",
     "text": [
      "c:\\ProgramData\\anaconda3\\Lib\\site-packages\\sklearn\\base.py:464: UserWarning: X does not have valid feature names, but DecisionTreeClassifier was fitted with feature names\n",
      "  warnings.warn(\n"
     ]
    }
   ],
   "source": [
    "# model prediction\n",
    "print(tree_model.predict([[12.4, 18.7, 81.2, 3.14, 7.7, 5.09, 13.2, 35.2, 77.6, 36.5, 37.50, 244.177, 19.72, 0.187]])[0])"
   ]
  },
  {
   "cell_type": "code",
   "execution_count": 46,
   "id": "cd1afd36-0c5c-48c1-b6c6-16c1ce782923",
   "metadata": {},
   "outputs": [],
   "source": [
    "from sklearn.tree import export_graphviz\n",
    "export_graphviz(\n",
    "    tree_model,\n",
    "    out_file = \"anemia_tree.dot\",\n",
    "    feature_names = ['WBC', 'LYMp', 'NEUTp', 'LYMn', 'NEUTn', 'RBC', 'HGB', 'HCT', 'MCV', 'MCH', 'MCHC', 'PLT', 'PDW', 'PCT'],\n",
    "    class_names = ['Normocytic hypochromic anemia', 'Iron deficiency anemia', 'Other microcytic anemia', 'Leukimia', 'Healthy', 'Thrombocytopenia', 'Normocytic normochromic anemia', 'Leukemia with thrombocytopenia', 'Macrocytic anemia'],\n",
    "    rounded = True,\n",
    "    filled = True\n",
    ")"
   ]
  },
  {
   "cell_type": "markdown",
   "id": "cb7a2ae6-e375-4083-860f-6d149d278d32",
   "metadata": {
    "jp-MarkdownHeadingCollapsed": true
   },
   "source": [
    "### Latihan SciKit Learn Linear Regression"
   ]
  },
  {
   "cell_type": "code",
   "execution_count": 47,
   "id": "88a48984-b652-4653-9a8e-3151a84de669",
   "metadata": {},
   "outputs": [],
   "source": [
    "import numpy as np\n",
    "\n",
    "# membuat data jumlah kamar\n",
    "bedrooms = np.array([1, 1, 2, 2, 3, 4, 4, 5, 5, 5])\n",
    "\n",
    "# membuat harga rumah, asumsi dalam dollar\n",
    "house_price = np.array([15000, 18000, 27000, 34000, 50000, 68000, 65000, 81000,85000, 90000])"
   ]
  },
  {
   "cell_type": "code",
   "execution_count": 48,
   "id": "f5b06358-945f-4679-843e-69a41259d08e",
   "metadata": {},
   "outputs": [
    {
     "data": {
      "text/plain": [
       "<matplotlib.collections.PathCollection at 0x258b8165490>"
      ]
     },
     "execution_count": 48,
     "metadata": {},
     "output_type": "execute_result"
    },
    {
     "data": {
      "image/png": "[encoded data removed]",
      "text/plain": [
       "<Figure size 640x480 with 1 Axes>"
      ]
     },
     "metadata": {},
     "output_type": "display_data"
    }
   ],
   "source": [
    "# menampilkan scatter plot dari dataset\n",
    "import matplotlib.pyplot as plt\n",
    "%matplotlib inline\n",
    "\n",
    "plt.scatter(bedrooms, house_price)"
   ]
  },
  {
   "cell_type": "code",
   "execution_count": 49,
   "id": "ee89f878-8721-4196-8b6a-7d7b73f56155",
   "metadata": {},
   "outputs": [
    {
     "data": {
      "text/html": [
       "<style>#sk-container-id-3 {color: black;}#sk-container-id-3 pre{padding: 0;}#sk-container-id-3 div.sk-toggleable {background-color: white;}#sk-container-id-3 label.sk-toggleable__label {cursor: pointer;display: block;width: 100%;margin-bottom: 0;padding: 0.3em;box-sizing: border-box;text-align: center;}#sk-container-id-3 label.sk-toggleable__label-arrow:before {content: \"▸\";float: left;margin-right: 0.25em;color: #696969;}#sk-container-id-3 label.sk-toggleable__label-arrow:hover:before {color: black;}#sk-container-id-3 div.sk-estimator:hover label.sk-toggleable__label-arrow:before {color: black;}#sk-container-id-3 div.sk-toggleable__content {max-height: 0;max-width: 0;overflow: hidden;text-align: left;background-color: #f0f8ff;}#sk-container-id-3 div.sk-toggleable__content pre {margin: 0.2em;color: black;border-radius: 0.25em;background-color: #f0f8ff;}#sk-container-id-3 input.sk-toggleable__control:checked~div.sk-toggleable__content {max-height: 200px;max-width: 100%;overflow: auto;}#sk-container-id-3 input.sk-toggleable__control:checked~label.sk-toggleable__label-arrow:before {content: \"▾\";}#sk-container-id-3 div.sk-estimator input.sk-toggleable__control:checked~label.sk-toggleable__label {background-color: #d4ebff;}#sk-container-id-3 div.sk-label input.sk-toggleable__control:checked~label.sk-toggleable__label {background-color: #d4ebff;}#sk-container-id-3 input.sk-hidden--visually {border: 0;clip: rect(1px 1px 1px 1px);clip: rect(1px, 1px, 1px, 1px);height: 1px;margin: -1px;overflow: hidden;padding: 0;position: absolute;width: 1px;}#sk-container-id-3 div.sk-estimator {font-family: monospace;background-color: #f0f8ff;border: 1px dotted black;border-radius: 0.25em;box-sizing: border-box;margin-bottom: 0.5em;}#sk-container-id-3 div.sk-estimator:hover {background-color: #d4ebff;}#sk-container-id-3 div.sk-parallel-item::after {content: \"\";width: 100%;border-bottom: 1px solid gray;flex-grow: 1;}#sk-container-id-3 div.sk-label:hover label.sk-toggleable__label {background-color: #d4ebff;}#sk-container-id-3 div.sk-serial::before {content: \"\";position: absolute;border-left: 1px solid gray;box-sizing: border-box;top: 0;bottom: 0;left: 50%;z-index: 0;}#sk-container-id-3 div.sk-serial {display: flex;flex-direction: column;align-items: center;background-color: white;padding-right: 0.2em;padding-left: 0.2em;position: relative;}#sk-container-id-3 div.sk-item {position: relative;z-index: 1;}#sk-container-id-3 div.sk-parallel {display: flex;align-items: stretch;justify-content: center;background-color: white;position: relative;}#sk-container-id-3 div.sk-item::before, #sk-container-id-3 div.sk-parallel-item::before {content: \"\";position: absolute;border-left: 1px solid gray;box-sizing: border-box;top: 0;bottom: 0;left: 50%;z-index: -1;}#sk-container-id-3 div.sk-parallel-item {display: flex;flex-direction: column;z-index: 1;position: relative;background-color: white;}#sk-container-id-3 div.sk-parallel-item:first-child::after {align-self: flex-end;width: 50%;}#sk-container-id-3 div.sk-parallel-item:last-child::after {align-self: flex-start;width: 50%;}#sk-container-id-3 div.sk-parallel-item:only-child::after {width: 0;}#sk-container-id-3 div.sk-dashed-wrapped {border: 1px dashed gray;margin: 0 0.4em 0.5em 0.4em;box-sizing: border-box;padding-bottom: 0.4em;background-color: white;}#sk-container-id-3 div.sk-label label {font-family: monospace;font-weight: bold;display: inline-block;line-height: 1.2em;}#sk-container-id-3 div.sk-label-container {text-align: center;}#sk-container-id-3 div.sk-container {/* jupyter's `normalize.less` sets `[hidden] { display: none; }` but bootstrap.min.css set `[hidden] { display: none !important; }` so we also need the `!important` here to be able to override the default hidden behavior on the sphinx rendered scikit-learn.org. See: https://github.com/scikit-learn/scikit-learn/issues/21755 */display: inline-block !important;position: relative;}#sk-container-id-3 div.sk-text-repr-fallback {display: none;}</style><div id=\"sk-container-id-3\" class=\"sk-top-container\"><div class=\"sk-text-repr-fallback\"><pre>LinearRegression()</pre><b>In a Jupyter environment, please rerun this cell to show the HTML representation or trust the notebook. <br />On GitHub, the HTML representation is unable to render, please try loading this page with nbviewer.org.</b></div><div class=\"sk-container\" hidden><div class=\"sk-item\"><div class=\"sk-estimator sk-toggleable\"><input class=\"sk-toggleable__control sk-hidden--visually\" id=\"sk-estimator-id-3\" type=\"checkbox\" checked><label for=\"sk-estimator-id-3\" class=\"sk-toggleable__label sk-toggleable__label-arrow\">LinearRegression</label><div class=\"sk-toggleable__content\"><pre>LinearRegression()</pre></div></div></div></div></div>"
      ],
      "text/plain": [
       "LinearRegression()"
      ]
     },
     "execution_count": 49,
     "metadata": {},
     "output_type": "execute_result"
    }
   ],
   "source": [
    "from sklearn.linear_model import LinearRegression\n",
    "\n",
    "# latih model dengan Linear Regression.fit()\n",
    "bedrooms = bedrooms.reshape(-1, 1)\n",
    "linreg = LinearRegression()\n",
    "linreg.fit(bedrooms, house_price)"
   ]
  },
  {
   "cell_type": "code",
   "execution_count": 50,
   "id": "9df0fead-7a52-4f5e-a374-8361df4d3dd7",
   "metadata": {},
   "outputs": [
    {
     "data": {
      "text/plain": [
       "[<matplotlib.lines.Line2D at 0x258b8167010>]"
      ]
     },
     "execution_count": 50,
     "metadata": {},
     "output_type": "execute_result"
    },
    {
     "data": {
      "image/png": "[encoded data removed]",
      "text/plain": [
       "<Figure size 640x480 with 1 Axes>"
      ]
     },
     "metadata": {},
     "output_type": "display_data"
    }
   ],
   "source": [
    "# menampilkan plot hubungan antara jumlah kamar dengan harga rumah\n",
    "plt.scatter(bedrooms, house_price)\n",
    "plt.plot(bedrooms, linreg.predict(bedrooms))"
   ]
  },
  {
   "cell_type": "markdown",
   "id": "9e32d6be-ab47-4922-9133-26f7e94290f3",
   "metadata": {
    "jp-MarkdownHeadingCollapsed": true
   },
   "source": [
    "### Latihan SKLearn Logistic Regression"
   ]
  },
  {
   "cell_type": "code",
   "execution_count": 51,
   "id": "4efdbcaf-76f6-4f78-aef7-23d744453d62",
   "metadata": {},
   "outputs": [],
   "source": [
    "SNAds = pd.read_csv('sample_data/Social_Network_Ads.csv')"
   ]
  },
  {
   "cell_type": "code",
   "execution_count": 52,
   "id": "c9e67aee-6227-48d6-bb94-9e34b8a00d89",
   "metadata": {},
   "outputs": [
    {
     "data": {
      "text/html": [
       "<div>\n",
       "<style scoped>\n",
       "    .dataframe tbody tr th:only-of-type {\n",
       "        vertical-align: middle;\n",
       "    }\n",
       "\n",
       "    .dataframe tbody tr th {\n",
       "        vertical-align: top;\n",
       "    }\n",
       "\n",
       "    .dataframe thead th {\n",
       "        text-align: right;\n",
       "    }\n",
       "</style>\n",
       "<table border=\"1\" class=\"dataframe\">\n",
       "  <thead>\n",
       "    <tr style=\"text-align: right;\">\n",
       "      <th></th>\n",
       "      <th>User ID</th>\n",
       "      <th>Gender</th>\n",
       "      <th>Age</th>\n",
       "      <th>EstimatedSalary</th>\n",
       "      <th>Purchased</th>\n",
       "    </tr>\n",
       "  </thead>\n",
       "  <tbody>\n",
       "    <tr>\n",
       "      <th>0</th>\n",
       "      <td>15624510</td>\n",
       "      <td>Male</td>\n",
       "      <td>19</td>\n",
       "      <td>19000</td>\n",
       "      <td>0</td>\n",
       "    </tr>\n",
       "    <tr>\n",
       "      <th>1</th>\n",
       "      <td>15810944</td>\n",
       "      <td>Male</td>\n",
       "      <td>35</td>\n",
       "      <td>20000</td>\n",
       "      <td>0</td>\n",
       "    </tr>\n",
       "    <tr>\n",
       "      <th>2</th>\n",
       "      <td>15668575</td>\n",
       "      <td>Female</td>\n",
       "      <td>26</td>\n",
       "      <td>43000</td>\n",
       "      <td>0</td>\n",
       "    </tr>\n",
       "    <tr>\n",
       "      <th>3</th>\n",
       "      <td>15603246</td>\n",
       "      <td>Female</td>\n",
       "      <td>27</td>\n",
       "      <td>57000</td>\n",
       "      <td>0</td>\n",
       "    </tr>\n",
       "    <tr>\n",
       "      <th>4</th>\n",
       "      <td>15804002</td>\n",
       "      <td>Male</td>\n",
       "      <td>19</td>\n",
       "      <td>76000</td>\n",
       "      <td>0</td>\n",
       "    </tr>\n",
       "  </tbody>\n",
       "</table>\n",
       "</div>"
      ],
      "text/plain": [
       "    User ID  Gender  Age  EstimatedSalary  Purchased\n",
       "0  15624510    Male   19            19000          0\n",
       "1  15810944    Male   35            20000          0\n",
       "2  15668575  Female   26            43000          0\n",
       "3  15603246  Female   27            57000          0\n",
       "4  15804002    Male   19            76000          0"
      ]
     },
     "execution_count": 52,
     "metadata": {},
     "output_type": "execute_result"
    }
   ],
   "source": [
    "SNAds.head()"
   ]
  },
  {
   "cell_type": "code",
   "execution_count": 53,
   "id": "913ba9ad-4b7b-4de9-8e62-d90b4d0dbfb1",
   "metadata": {},
   "outputs": [
    {
     "name": "stdout",
     "output_type": "stream",
     "text": [
      "<class 'pandas.core.frame.DataFrame'>\n",
      "RangeIndex: 400 entries, 0 to 399\n",
      "Data columns (total 5 columns):\n",
      " #   Column           Non-Null Count  Dtype \n",
      "---  ------           --------------  ----- \n",
      " 0   User ID          400 non-null    int64 \n",
      " 1   Gender           400 non-null    object\n",
      " 2   Age              400 non-null    int64 \n",
      " 3   EstimatedSalary  400 non-null    int64 \n",
      " 4   Purchased        400 non-null    int64 \n",
      "dtypes: int64(4), object(1)\n",
      "memory usage: 15.8+ KB\n"
     ]
    }
   ],
   "source": [
    "SNAds.info()"
   ]
  },
  {
   "cell_type": "code",
   "execution_count": 54,
   "id": "c3b30d64-d633-49dc-afc8-482cfa4f2847",
   "metadata": {},
   "outputs": [
    {
     "data": {
      "text/html": [
       "<div>\n",
       "<style scoped>\n",
       "    .dataframe tbody tr th:only-of-type {\n",
       "        vertical-align: middle;\n",
       "    }\n",
       "\n",
       "    .dataframe tbody tr th {\n",
       "        vertical-align: top;\n",
       "    }\n",
       "\n",
       "    .dataframe thead th {\n",
       "        text-align: right;\n",
       "    }\n",
       "</style>\n",
       "<table border=\"1\" class=\"dataframe\">\n",
       "  <thead>\n",
       "    <tr style=\"text-align: right;\">\n",
       "      <th></th>\n",
       "      <th>Age</th>\n",
       "      <th>EstimatedSalary</th>\n",
       "      <th>Purchased</th>\n",
       "      <th>Gender_Female</th>\n",
       "      <th>Gender_Male</th>\n",
       "    </tr>\n",
       "  </thead>\n",
       "  <tbody>\n",
       "    <tr>\n",
       "      <th>0</th>\n",
       "      <td>19</td>\n",
       "      <td>19000</td>\n",
       "      <td>0</td>\n",
       "      <td>0</td>\n",
       "      <td>1</td>\n",
       "    </tr>\n",
       "    <tr>\n",
       "      <th>1</th>\n",
       "      <td>35</td>\n",
       "      <td>20000</td>\n",
       "      <td>0</td>\n",
       "      <td>0</td>\n",
       "      <td>1</td>\n",
       "    </tr>\n",
       "    <tr>\n",
       "      <th>2</th>\n",
       "      <td>26</td>\n",
       "      <td>43000</td>\n",
       "      <td>0</td>\n",
       "      <td>1</td>\n",
       "      <td>0</td>\n",
       "    </tr>\n",
       "    <tr>\n",
       "      <th>3</th>\n",
       "      <td>27</td>\n",
       "      <td>57000</td>\n",
       "      <td>0</td>\n",
       "      <td>1</td>\n",
       "      <td>0</td>\n",
       "    </tr>\n",
       "    <tr>\n",
       "      <th>4</th>\n",
       "      <td>19</td>\n",
       "      <td>76000</td>\n",
       "      <td>0</td>\n",
       "      <td>0</td>\n",
       "      <td>1</td>\n",
       "    </tr>\n",
       "    <tr>\n",
       "      <th>...</th>\n",
       "      <td>...</td>\n",
       "      <td>...</td>\n",
       "      <td>...</td>\n",
       "      <td>...</td>\n",
       "      <td>...</td>\n",
       "    </tr>\n",
       "    <tr>\n",
       "      <th>395</th>\n",
       "      <td>46</td>\n",
       "      <td>41000</td>\n",
       "      <td>1</td>\n",
       "      <td>1</td>\n",
       "      <td>0</td>\n",
       "    </tr>\n",
       "    <tr>\n",
       "      <th>396</th>\n",
       "      <td>51</td>\n",
       "      <td>23000</td>\n",
       "      <td>1</td>\n",
       "      <td>0</td>\n",
       "      <td>1</td>\n",
       "    </tr>\n",
       "    <tr>\n",
       "      <th>397</th>\n",
       "      <td>50</td>\n",
       "      <td>20000</td>\n",
       "      <td>1</td>\n",
       "      <td>1</td>\n",
       "      <td>0</td>\n",
       "    </tr>\n",
       "    <tr>\n",
       "      <th>398</th>\n",
       "      <td>36</td>\n",
       "      <td>33000</td>\n",
       "      <td>0</td>\n",
       "      <td>0</td>\n",
       "      <td>1</td>\n",
       "    </tr>\n",
       "    <tr>\n",
       "      <th>399</th>\n",
       "      <td>49</td>\n",
       "      <td>36000</td>\n",
       "      <td>1</td>\n",
       "      <td>1</td>\n",
       "      <td>0</td>\n",
       "    </tr>\n",
       "  </tbody>\n",
       "</table>\n",
       "<p>400 rows × 5 columns</p>\n",
       "</div>"
      ],
      "text/plain": [
       "     Age  EstimatedSalary  Purchased  Gender_Female  Gender_Male\n",
       "0     19            19000          0              0            1\n",
       "1     35            20000          0              0            1\n",
       "2     26            43000          0              1            0\n",
       "3     27            57000          0              1            0\n",
       "4     19            76000          0              0            1\n",
       "..   ...              ...        ...            ...          ...\n",
       "395   46            41000          1              1            0\n",
       "396   51            23000          1              0            1\n",
       "397   50            20000          1              1            0\n",
       "398   36            33000          0              0            1\n",
       "399   49            36000          1              1            0\n",
       "\n",
       "[400 rows x 5 columns]"
      ]
     },
     "execution_count": 54,
     "metadata": {},
     "output_type": "execute_result"
    }
   ],
   "source": [
    "# drop kolom yang tidak diperlukan\n",
    "data_sna = SNAds.drop(columns=['User ID'])\n",
    "\n",
    "# proses one-hot encoding dengan pd.get_dummies()\n",
    "data = pd.get_dummies(data_sna, dtype=\"int\")\n",
    "data"
   ]
  },
  {
   "cell_type": "code",
   "execution_count": 55,
   "id": "97d18149-677d-47c4-8a3a-e45ea096b195",
   "metadata": {},
   "outputs": [],
   "source": [
    "# pisahkan atribut dan label\n",
    "predictions = ['Age', 'EstimatedSalary', 'Gender_Female', 'Gender_Male']\n",
    "i = data[predictions]\n",
    "j = data['Purchased']"
   ]
  },
  {
   "cell_type": "code",
   "execution_count": 56,
   "id": "b1025f99-f65f-4272-bd40-d183ee00aaca",
   "metadata": {},
   "outputs": [
    {
     "data": {
      "text/html": [
       "<div>\n",
       "<style scoped>\n",
       "    .dataframe tbody tr th:only-of-type {\n",
       "        vertical-align: middle;\n",
       "    }\n",
       "\n",
       "    .dataframe tbody tr th {\n",
       "        vertical-align: top;\n",
       "    }\n",
       "\n",
       "    .dataframe thead th {\n",
       "        text-align: right;\n",
       "    }\n",
       "</style>\n",
       "<table border=\"1\" class=\"dataframe\">\n",
       "  <thead>\n",
       "    <tr style=\"text-align: right;\">\n",
       "      <th></th>\n",
       "      <th>Age</th>\n",
       "      <th>EstimatedSalary</th>\n",
       "      <th>Gender_Female</th>\n",
       "      <th>Gender_Male</th>\n",
       "    </tr>\n",
       "  </thead>\n",
       "  <tbody>\n",
       "    <tr>\n",
       "      <th>0</th>\n",
       "      <td>-1.781797</td>\n",
       "      <td>-1.490046</td>\n",
       "      <td>-1.020204</td>\n",
       "      <td>1.020204</td>\n",
       "    </tr>\n",
       "    <tr>\n",
       "      <th>1</th>\n",
       "      <td>-0.253587</td>\n",
       "      <td>-1.460681</td>\n",
       "      <td>-1.020204</td>\n",
       "      <td>1.020204</td>\n",
       "    </tr>\n",
       "    <tr>\n",
       "      <th>2</th>\n",
       "      <td>-1.113206</td>\n",
       "      <td>-0.785290</td>\n",
       "      <td>0.980196</td>\n",
       "      <td>-0.980196</td>\n",
       "    </tr>\n",
       "    <tr>\n",
       "      <th>3</th>\n",
       "      <td>-1.017692</td>\n",
       "      <td>-0.374182</td>\n",
       "      <td>0.980196</td>\n",
       "      <td>-0.980196</td>\n",
       "    </tr>\n",
       "    <tr>\n",
       "      <th>4</th>\n",
       "      <td>-1.781797</td>\n",
       "      <td>0.183751</td>\n",
       "      <td>-1.020204</td>\n",
       "      <td>1.020204</td>\n",
       "    </tr>\n",
       "  </tbody>\n",
       "</table>\n",
       "</div>"
      ],
      "text/plain": [
       "        Age  EstimatedSalary  Gender_Female  Gender_Male\n",
       "0 -1.781797        -1.490046      -1.020204     1.020204\n",
       "1 -0.253587        -1.460681      -1.020204     1.020204\n",
       "2 -1.113206        -0.785290       0.980196    -0.980196\n",
       "3 -1.017692        -0.374182       0.980196    -0.980196\n",
       "4 -1.781797         0.183751      -1.020204     1.020204"
      ]
     },
     "execution_count": 56,
     "metadata": {},
     "output_type": "execute_result"
    }
   ],
   "source": [
    "# lakukan normalisasi terhadap data yang kita miliki\n",
    "from sklearn.preprocessing import StandardScaler\n",
    "scaler = StandardScaler()\n",
    "scaler.fit(i)\n",
    "scaled_data = scaler.transform(i)\n",
    "scaled_data = pd.DataFrame(scaled_data, columns = i.columns)\n",
    "scaled_data.head()"
   ]
  },
  {
   "cell_type": "code",
   "execution_count": 57,
   "id": "55db8b08-2960-4e4d-8b01-9533ed464feb",
   "metadata": {},
   "outputs": [],
   "source": [
    "# bagi data menjadi train dan test untuk setiap atribut dan label\n",
    "i_train, i_test, j_train, j_test = train_test_split(scaled_data, j, test_size=0.2, random_state=1)"
   ]
  },
  {
   "cell_type": "code",
   "execution_count": 58,
   "id": "574db839-9ee3-4e8a-ad0e-a14da90e3925",
   "metadata": {},
   "outputs": [
    {
     "data": {
      "text/html": [
       "<style>#sk-container-id-4 {color: black;}#sk-container-id-4 pre{padding: 0;}#sk-container-id-4 div.sk-toggleable {background-color: white;}#sk-container-id-4 label.sk-toggleable__label {cursor: pointer;display: block;width: 100%;margin-bottom: 0;padding: 0.3em;box-sizing: border-box;text-align: center;}#sk-container-id-4 label.sk-toggleable__label-arrow:before {content: \"▸\";float: left;margin-right: 0.25em;color: #696969;}#sk-container-id-4 label.sk-toggleable__label-arrow:hover:before {color: black;}#sk-container-id-4 div.sk-estimator:hover label.sk-toggleable__label-arrow:before {color: black;}#sk-container-id-4 div.sk-toggleable__content {max-height: 0;max-width: 0;overflow: hidden;text-align: left;background-color: #f0f8ff;}#sk-container-id-4 div.sk-toggleable__content pre {margin: 0.2em;color: black;border-radius: 0.25em;background-color: #f0f8ff;}#sk-container-id-4 input.sk-toggleable__control:checked~div.sk-toggleable__content {max-height: 200px;max-width: 100%;overflow: auto;}#sk-container-id-4 input.sk-toggleable__control:checked~label.sk-toggleable__label-arrow:before {content: \"▾\";}#sk-container-id-4 div.sk-estimator input.sk-toggleable__control:checked~label.sk-toggleable__label {background-color: #d4ebff;}#sk-container-id-4 div.sk-label input.sk-toggleable__control:checked~label.sk-toggleable__label {background-color: #d4ebff;}#sk-container-id-4 input.sk-hidden--visually {border: 0;clip: rect(1px 1px 1px 1px);clip: rect(1px, 1px, 1px, 1px);height: 1px;margin: -1px;overflow: hidden;padding: 0;position: absolute;width: 1px;}#sk-container-id-4 div.sk-estimator {font-family: monospace;background-color: #f0f8ff;border: 1px dotted black;border-radius: 0.25em;box-sizing: border-box;margin-bottom: 0.5em;}#sk-container-id-4 div.sk-estimator:hover {background-color: #d4ebff;}#sk-container-id-4 div.sk-parallel-item::after {content: \"\";width: 100%;border-bottom: 1px solid gray;flex-grow: 1;}#sk-container-id-4 div.sk-label:hover label.sk-toggleable__label {background-color: #d4ebff;}#sk-container-id-4 div.sk-serial::before {content: \"\";position: absolute;border-left: 1px solid gray;box-sizing: border-box;top: 0;bottom: 0;left: 50%;z-index: 0;}#sk-container-id-4 div.sk-serial {display: flex;flex-direction: column;align-items: center;background-color: white;padding-right: 0.2em;padding-left: 0.2em;position: relative;}#sk-container-id-4 div.sk-item {position: relative;z-index: 1;}#sk-container-id-4 div.sk-parallel {display: flex;align-items: stretch;justify-content: center;background-color: white;position: relative;}#sk-container-id-4 div.sk-item::before, #sk-container-id-4 div.sk-parallel-item::before {content: \"\";position: absolute;border-left: 1px solid gray;box-sizing: border-box;top: 0;bottom: 0;left: 50%;z-index: -1;}#sk-container-id-4 div.sk-parallel-item {display: flex;flex-direction: column;z-index: 1;position: relative;background-color: white;}#sk-container-id-4 div.sk-parallel-item:first-child::after {align-self: flex-end;width: 50%;}#sk-container-id-4 div.sk-parallel-item:last-child::after {align-self: flex-start;width: 50%;}#sk-container-id-4 div.sk-parallel-item:only-child::after {width: 0;}#sk-container-id-4 div.sk-dashed-wrapped {border: 1px dashed gray;margin: 0 0.4em 0.5em 0.4em;box-sizing: border-box;padding-bottom: 0.4em;background-color: white;}#sk-container-id-4 div.sk-label label {font-family: monospace;font-weight: bold;display: inline-block;line-height: 1.2em;}#sk-container-id-4 div.sk-label-container {text-align: center;}#sk-container-id-4 div.sk-container {/* jupyter's `normalize.less` sets `[hidden] { display: none; }` but bootstrap.min.css set `[hidden] { display: none !important; }` so we also need the `!important` here to be able to override the default hidden behavior on the sphinx rendered scikit-learn.org. See: https://github.com/scikit-learn/scikit-learn/issues/21755 */display: inline-block !important;position: relative;}#sk-container-id-4 div.sk-text-repr-fallback {display: none;}</style><div id=\"sk-container-id-4\" class=\"sk-top-container\"><div class=\"sk-text-repr-fallback\"><pre>LogisticRegression()</pre><b>In a Jupyter environment, please rerun this cell to show the HTML representation or trust the notebook. <br />On GitHub, the HTML representation is unable to render, please try loading this page with nbviewer.org.</b></div><div class=\"sk-container\" hidden><div class=\"sk-item\"><div class=\"sk-estimator sk-toggleable\"><input class=\"sk-toggleable__control sk-hidden--visually\" id=\"sk-estimator-id-4\" type=\"checkbox\" checked><label for=\"sk-estimator-id-4\" class=\"sk-toggleable__label sk-toggleable__label-arrow\">LogisticRegression</label><div class=\"sk-toggleable__content\"><pre>LogisticRegression()</pre></div></div></div></div></div>"
      ],
      "text/plain": [
       "LogisticRegression()"
      ]
     },
     "execution_count": 58,
     "metadata": {},
     "output_type": "execute_result"
    }
   ],
   "source": [
    "from sklearn import linear_model\n",
    "\n",
    "# latih model fungsi fit\n",
    "logreg = linear_model.LogisticRegression()\n",
    "logreg.fit(i_train, j_train)"
   ]
  },
  {
   "cell_type": "code",
   "execution_count": 59,
   "id": "f9686f39-af39-40ae-8fb9-0465851cae6a",
   "metadata": {},
   "outputs": [
    {
     "data": {
      "text/plain": [
       "0.825"
      ]
     },
     "execution_count": 59,
     "metadata": {},
     "output_type": "execute_result"
    }
   ],
   "source": [
    "# model accuracy\n",
    "logreg.score(i_test, j_test)"
   ]
  },
  {
   "cell_type": "markdown",
   "id": "37c8711f-d9fd-429d-9d62-0fc073734e3d",
   "metadata": {
    "jp-MarkdownHeadingCollapsed": true
   },
   "source": [
    "### Latihan SciKit Learn K-Means Clustering"
   ]
  },
  {
   "cell_type": "code",
   "execution_count": 60,
   "id": "b47ade74-1804-4763-a0a1-584b4853c523",
   "metadata": {},
   "outputs": [
    {
     "data": {
      "text/html": [
       "<div>\n",
       "<style scoped>\n",
       "    .dataframe tbody tr th:only-of-type {\n",
       "        vertical-align: middle;\n",
       "    }\n",
       "\n",
       "    .dataframe tbody tr th {\n",
       "        vertical-align: top;\n",
       "    }\n",
       "\n",
       "    .dataframe thead th {\n",
       "        text-align: right;\n",
       "    }\n",
       "</style>\n",
       "<table border=\"1\" class=\"dataframe\">\n",
       "  <thead>\n",
       "    <tr style=\"text-align: right;\">\n",
       "      <th></th>\n",
       "      <th>CustomerID</th>\n",
       "      <th>Gender</th>\n",
       "      <th>Age</th>\n",
       "      <th>Annual Income (k$)</th>\n",
       "      <th>Spending Score (1-100)</th>\n",
       "    </tr>\n",
       "  </thead>\n",
       "  <tbody>\n",
       "    <tr>\n",
       "      <th>0</th>\n",
       "      <td>1</td>\n",
       "      <td>Male</td>\n",
       "      <td>19</td>\n",
       "      <td>15</td>\n",
       "      <td>39</td>\n",
       "    </tr>\n",
       "    <tr>\n",
       "      <th>1</th>\n",
       "      <td>2</td>\n",
       "      <td>Male</td>\n",
       "      <td>21</td>\n",
       "      <td>15</td>\n",
       "      <td>81</td>\n",
       "    </tr>\n",
       "    <tr>\n",
       "      <th>2</th>\n",
       "      <td>3</td>\n",
       "      <td>Female</td>\n",
       "      <td>20</td>\n",
       "      <td>16</td>\n",
       "      <td>6</td>\n",
       "    </tr>\n",
       "    <tr>\n",
       "      <th>3</th>\n",
       "      <td>4</td>\n",
       "      <td>Female</td>\n",
       "      <td>23</td>\n",
       "      <td>16</td>\n",
       "      <td>77</td>\n",
       "    </tr>\n",
       "    <tr>\n",
       "      <th>4</th>\n",
       "      <td>5</td>\n",
       "      <td>Female</td>\n",
       "      <td>31</td>\n",
       "      <td>17</td>\n",
       "      <td>40</td>\n",
       "    </tr>\n",
       "  </tbody>\n",
       "</table>\n",
       "</div>"
      ],
      "text/plain": [
       "   CustomerID  Gender  Age  Annual Income (k$)  Spending Score (1-100)\n",
       "0           1    Male   19                  15                      39\n",
       "1           2    Male   21                  15                      81\n",
       "2           3  Female   20                  16                       6\n",
       "3           4  Female   23                  16                      77\n",
       "4           5  Female   31                  17                      40"
      ]
     },
     "execution_count": 60,
     "metadata": {},
     "output_type": "execute_result"
    }
   ],
   "source": [
    "mall_cust = pd.read_csv('sample_data/Mall_Customers.csv')\n",
    "mall_cust.head()"
   ]
  },
  {
   "cell_type": "code",
   "execution_count": 61,
   "id": "33b8f1b7-4f5b-4fff-b553-38c2d4903b5d",
   "metadata": {},
   "outputs": [
    {
     "data": {
      "text/html": [
       "<div>\n",
       "<style scoped>\n",
       "    .dataframe tbody tr th:only-of-type {\n",
       "        vertical-align: middle;\n",
       "    }\n",
       "\n",
       "    .dataframe tbody tr th {\n",
       "        vertical-align: top;\n",
       "    }\n",
       "\n",
       "    .dataframe thead th {\n",
       "        text-align: right;\n",
       "    }\n",
       "</style>\n",
       "<table border=\"1\" class=\"dataframe\">\n",
       "  <thead>\n",
       "    <tr style=\"text-align: right;\">\n",
       "      <th></th>\n",
       "      <th>CustomerID</th>\n",
       "      <th>gender</th>\n",
       "      <th>age</th>\n",
       "      <th>annual_income</th>\n",
       "      <th>spending_score</th>\n",
       "    </tr>\n",
       "  </thead>\n",
       "  <tbody>\n",
       "    <tr>\n",
       "      <th>0</th>\n",
       "      <td>1</td>\n",
       "      <td>1</td>\n",
       "      <td>19</td>\n",
       "      <td>15</td>\n",
       "      <td>39</td>\n",
       "    </tr>\n",
       "    <tr>\n",
       "      <th>1</th>\n",
       "      <td>2</td>\n",
       "      <td>1</td>\n",
       "      <td>21</td>\n",
       "      <td>15</td>\n",
       "      <td>81</td>\n",
       "    </tr>\n",
       "    <tr>\n",
       "      <th>2</th>\n",
       "      <td>3</td>\n",
       "      <td>0</td>\n",
       "      <td>20</td>\n",
       "      <td>16</td>\n",
       "      <td>6</td>\n",
       "    </tr>\n",
       "  </tbody>\n",
       "</table>\n",
       "</div>"
      ],
      "text/plain": [
       "   CustomerID  gender  age  annual_income  spending_score\n",
       "0           1       1   19             15              39\n",
       "1           2       1   21             15              81\n",
       "2           3       0   20             16               6"
      ]
     },
     "execution_count": 61,
     "metadata": {},
     "output_type": "execute_result"
    }
   ],
   "source": [
    "# changing column names\n",
    "df_mc = mall_cust.rename(columns = {\n",
    "    'Gender': 'gender', 'Age': 'age',\n",
    "    'Annual Income (k$)': 'annual_income',\n",
    "    'Spending Score (1-100)': 'spending_score'\n",
    "})\n",
    "\n",
    "# edit categorial into numeric\n",
    "df_mc['gender'].replace(['Female', 'Male'], [0,1], inplace = True)\n",
    "\n",
    "# show preprocessed data\n",
    "df_mc.head(3)"
   ]
  },
  {
   "cell_type": "code",
   "execution_count": 62,
   "id": "d69b7163-04cc-485f-bbd5-635f040c1ae2",
   "metadata": {},
   "outputs": [
    {
     "name": "stderr",
     "output_type": "stream",
     "text": [
      "c:\\ProgramData\\anaconda3\\Lib\\site-packages\\sklearn\\cluster\\_kmeans.py:1412: FutureWarning: The default value of `n_init` will change from 10 to 'auto' in 1.4. Set the value of `n_init` explicitly to suppress the warning\n",
      "  super()._check_params_vs_input(X, default_n_init=10)\n",
      "c:\\ProgramData\\anaconda3\\Lib\\site-packages\\sklearn\\cluster\\_kmeans.py:1436: UserWarning: KMeans is known to have a memory leak on Windows with MKL, when there are less chunks than available threads. You can avoid it by setting the environment variable OMP_NUM_THREADS=1.\n",
      "  warnings.warn(\n",
      "c:\\ProgramData\\anaconda3\\Lib\\site-packages\\sklearn\\cluster\\_kmeans.py:1412: FutureWarning: The default value of `n_init` will change from 10 to 'auto' in 1.4. Set the value of `n_init` explicitly to suppress the warning\n",
      "  super()._check_params_vs_input(X, default_n_init=10)\n",
      "c:\\ProgramData\\anaconda3\\Lib\\site-packages\\sklearn\\cluster\\_kmeans.py:1436: UserWarning: KMeans is known to have a memory leak on Windows with MKL, when there are less chunks than available threads. You can avoid it by setting the environment variable OMP_NUM_THREADS=1.\n",
      "  warnings.warn(\n",
      "c:\\ProgramData\\anaconda3\\Lib\\site-packages\\sklearn\\cluster\\_kmeans.py:1412: FutureWarning: The default value of `n_init` will change from 10 to 'auto' in 1.4. Set the value of `n_init` explicitly to suppress the warning\n",
      "  super()._check_params_vs_input(X, default_n_init=10)\n",
      "c:\\ProgramData\\anaconda3\\Lib\\site-packages\\sklearn\\cluster\\_kmeans.py:1436: UserWarning: KMeans is known to have a memory leak on Windows with MKL, when there are less chunks than available threads. You can avoid it by setting the environment variable OMP_NUM_THREADS=1.\n",
      "  warnings.warn(\n",
      "c:\\ProgramData\\anaconda3\\Lib\\site-packages\\sklearn\\cluster\\_kmeans.py:1412: FutureWarning: The default value of `n_init` will change from 10 to 'auto' in 1.4. Set the value of `n_init` explicitly to suppress the warning\n",
      "  super()._check_params_vs_input(X, default_n_init=10)\n",
      "c:\\ProgramData\\anaconda3\\Lib\\site-packages\\sklearn\\cluster\\_kmeans.py:1436: UserWarning: KMeans is known to have a memory leak on Windows with MKL, when there are less chunks than available threads. You can avoid it by setting the environment variable OMP_NUM_THREADS=1.\n",
      "  warnings.warn(\n",
      "c:\\ProgramData\\anaconda3\\Lib\\site-packages\\sklearn\\cluster\\_kmeans.py:1412: FutureWarning: The default value of `n_init` will change from 10 to 'auto' in 1.4. Set the value of `n_init` explicitly to suppress the warning\n",
      "  super()._check_params_vs_input(X, default_n_init=10)\n",
      "c:\\ProgramData\\anaconda3\\Lib\\site-packages\\sklearn\\cluster\\_kmeans.py:1436: UserWarning: KMeans is known to have a memory leak on Windows with MKL, when there are less chunks than available threads. You can avoid it by setting the environment variable OMP_NUM_THREADS=1.\n",
      "  warnings.warn(\n",
      "c:\\ProgramData\\anaconda3\\Lib\\site-packages\\sklearn\\cluster\\_kmeans.py:1412: FutureWarning: The default value of `n_init` will change from 10 to 'auto' in 1.4. Set the value of `n_init` explicitly to suppress the warning\n",
      "  super()._check_params_vs_input(X, default_n_init=10)\n",
      "c:\\ProgramData\\anaconda3\\Lib\\site-packages\\sklearn\\cluster\\_kmeans.py:1436: UserWarning: KMeans is known to have a memory leak on Windows with MKL, when there are less chunks than available threads. You can avoid it by setting the environment variable OMP_NUM_THREADS=1.\n",
      "  warnings.warn(\n",
      "c:\\ProgramData\\anaconda3\\Lib\\site-packages\\sklearn\\cluster\\_kmeans.py:1412: FutureWarning: The default value of `n_init` will change from 10 to 'auto' in 1.4. Set the value of `n_init` explicitly to suppress the warning\n",
      "  super()._check_params_vs_input(X, default_n_init=10)\n",
      "c:\\ProgramData\\anaconda3\\Lib\\site-packages\\sklearn\\cluster\\_kmeans.py:1436: UserWarning: KMeans is known to have a memory leak on Windows with MKL, when there are less chunks than available threads. You can avoid it by setting the environment variable OMP_NUM_THREADS=1.\n",
      "  warnings.warn(\n",
      "c:\\ProgramData\\anaconda3\\Lib\\site-packages\\sklearn\\cluster\\_kmeans.py:1412: FutureWarning: The default value of `n_init` will change from 10 to 'auto' in 1.4. Set the value of `n_init` explicitly to suppress the warning\n",
      "  super()._check_params_vs_input(X, default_n_init=10)\n",
      "c:\\ProgramData\\anaconda3\\Lib\\site-packages\\sklearn\\cluster\\_kmeans.py:1436: UserWarning: KMeans is known to have a memory leak on Windows with MKL, when there are less chunks than available threads. You can avoid it by setting the environment variable OMP_NUM_THREADS=1.\n",
      "  warnings.warn(\n",
      "c:\\ProgramData\\anaconda3\\Lib\\site-packages\\sklearn\\cluster\\_kmeans.py:1412: FutureWarning: The default value of `n_init` will change from 10 to 'auto' in 1.4. Set the value of `n_init` explicitly to suppress the warning\n",
      "  super()._check_params_vs_input(X, default_n_init=10)\n",
      "c:\\ProgramData\\anaconda3\\Lib\\site-packages\\sklearn\\cluster\\_kmeans.py:1436: UserWarning: KMeans is known to have a memory leak on Windows with MKL, when there are less chunks than available threads. You can avoid it by setting the environment variable OMP_NUM_THREADS=1.\n",
      "  warnings.warn(\n",
      "c:\\ProgramData\\anaconda3\\Lib\\site-packages\\sklearn\\cluster\\_kmeans.py:1412: FutureWarning: The default value of `n_init` will change from 10 to 'auto' in 1.4. Set the value of `n_init` explicitly to suppress the warning\n",
      "  super()._check_params_vs_input(X, default_n_init=10)\n",
      "c:\\ProgramData\\anaconda3\\Lib\\site-packages\\sklearn\\cluster\\_kmeans.py:1436: UserWarning: KMeans is known to have a memory leak on Windows with MKL, when there are less chunks than available threads. You can avoid it by setting the environment variable OMP_NUM_THREADS=1.\n",
      "  warnings.warn(\n"
     ]
    }
   ],
   "source": [
    "from sklearn.cluster import KMeans\n",
    "\n",
    "# drop cust id and gender\n",
    "g = df_mc.drop(['CustomerID', 'gender'], axis=1)\n",
    "\n",
    "# list containing inertia\n",
    "cluster = []\n",
    "for o in range(1, 11):\n",
    "    km = KMeans(n_clusters=o).fit(g)\n",
    "    cluster.append(km.inertia_)"
   ]
  },
  {
   "cell_type": "code",
   "execution_count": 63,
   "id": "e9071aeb-8b00-4366-8dd3-007a2a4eb61b",
   "metadata": {},
   "outputs": [
    {
     "data": {
      "text/plain": [
       "Text(0, 0.5, 'Inertia')"
      ]
     },
     "execution_count": 63,
     "metadata": {},
     "output_type": "execute_result"
    },
    {
     "data": {
      "image/png": "[encoded data removed]",
      "text/plain": [
       "<Figure size 800x400 with 1 Axes>"
      ]
     },
     "metadata": {},
     "output_type": "display_data"
    }
   ],
   "source": [
    "%matplotlib inline\n",
    "import seaborn as sns\n",
    "\n",
    "# plot inertia\n",
    "fig, ax = plt.subplots(figsize=(8, 4))\n",
    "sns.lineplot(x=list(range(1, 11)), y=cluster, ax=ax)\n",
    "ax.set_title('Elbow Search')\n",
    "ax.set_xlabel('Cluster')\n",
    "ax.set_ylabel('Inertia')"
   ]
  },
  {
   "cell_type": "code",
   "execution_count": 64,
   "id": "a30c447b-62c4-42ff-b6cb-9fb26f036a1a",
   "metadata": {},
   "outputs": [
    {
     "name": "stderr",
     "output_type": "stream",
     "text": [
      "c:\\ProgramData\\anaconda3\\Lib\\site-packages\\sklearn\\cluster\\_kmeans.py:1412: FutureWarning: The default value of `n_init` will change from 10 to 'auto' in 1.4. Set the value of `n_init` explicitly to suppress the warning\n",
      "  super()._check_params_vs_input(X, default_n_init=10)\n",
      "c:\\ProgramData\\anaconda3\\Lib\\site-packages\\sklearn\\cluster\\_kmeans.py:1436: UserWarning: KMeans is known to have a memory leak on Windows with MKL, when there are less chunks than available threads. You can avoid it by setting the environment variable OMP_NUM_THREADS=1.\n",
      "  warnings.warn(\n"
     ]
    },
    {
     "data": {
      "image/png": "[encoded data removed]",
      "text/plain": [
       "<Figure size 800x400 with 1 Axes>"
      ]
     },
     "metadata": {},
     "output_type": "display_data"
    }
   ],
   "source": [
    "# create object KMeans\n",
    "km5 = KMeans(n_clusters=5).fit(g)\n",
    "\n",
    "# add label column\n",
    "g['Labels'] = km5.labels_\n",
    "\n",
    "# plot KMeans with 5 clusters\n",
    "plt.figure(figsize=(8, 4))\n",
    "sns.scatterplot(x=g['annual_income'], y=g['spending_score'], hue=g['Labels'],\n",
    "               palette=sns.color_palette('hls', 5))\n",
    "plt.title('5 Cluster KMeans')\n",
    "plt.show()"
   ]
  },
  {
   "cell_type": "markdown",
   "id": "e301dc25-29f0-4e33-99a6-17b0e3c5d4c6",
   "metadata": {
    "jp-MarkdownHeadingCollapsed": true
   },
   "source": [
    "### Latihan SciKit Learn PCA"
   ]
  },
  {
   "cell_type": "code",
   "execution_count": 65,
   "id": "08815ccc-0062-4cb4-bcb3-0c147cc0c29d",
   "metadata": {},
   "outputs": [],
   "source": [
    "iris = datasets.load_iris()\n",
    "atribut = iris.data\n",
    "label = iris.target\n",
    "\n",
    "m_train, m_test, n_train, n_test = train_test_split(atribut, label, test_size=0.2, random_state=1)"
   ]
  },
  {
   "cell_type": "code",
   "execution_count": 66,
   "id": "ace3928f-2f17-4cd2-adb8-7ce1827ec490",
   "metadata": {},
   "outputs": [
    {
     "data": {
      "text/plain": [
       "0.9666666666666667"
      ]
     },
     "execution_count": 66,
     "metadata": {},
     "output_type": "execute_result"
    }
   ],
   "source": [
    "from sklearn import tree\n",
    "\n",
    "dec_tree = tree.DecisionTreeClassifier()\n",
    "mod_1 = dec_tree.fit(m_train, n_train)\n",
    "mod_1.score(m_test, n_test)"
   ]
  },
  {
   "cell_type": "code",
   "execution_count": 67,
   "id": "afae7787-de02-444d-ae42-766a1c41130b",
   "metadata": {},
   "outputs": [],
   "source": [
    "from sklearn.decomposition import PCA"
   ]
  },
  {
   "cell_type": "code",
   "execution_count": 68,
   "id": "d48c9a83-a643-46b0-9fb4-c1ee597bb2e8",
   "metadata": {},
   "outputs": [
    {
     "data": {
      "text/plain": [
       "array([0.92848323, 0.04764372, 0.01931005, 0.004563  ])"
      ]
     },
     "execution_count": 68,
     "metadata": {},
     "output_type": "execute_result"
    }
   ],
   "source": [
    "# object PCA 4 component\n",
    "pca = PCA(n_components = 4)\n",
    "\n",
    "# implement PCA on dataset\n",
    "pca_attributes = pca.fit_transform(m_train)\n",
    "\n",
    "# view variance each attributes\n",
    "pca.explained_variance_ratio_"
   ]
  },
  {
   "cell_type": "code",
   "execution_count": 69,
   "id": "674c7623-37ec-412e-a860-1f7cefdf6afc",
   "metadata": {},
   "outputs": [],
   "source": [
    "# 2 components\n",
    "pca1 = PCA(n_components = 2)\n",
    "m_train_pca = pca.fit_transform(m_train)\n",
    "m_test_pca = pca.fit_transform(m_test)"
   ]
  },
  {
   "cell_type": "code",
   "execution_count": 70,
   "id": "eb187e49-3d13-4cee-9040-ba4500fa44a8",
   "metadata": {},
   "outputs": [
    {
     "data": {
      "text/plain": [
       "0.9"
      ]
     },
     "execution_count": 70,
     "metadata": {},
     "output_type": "execute_result"
    }
   ],
   "source": [
    "# accurate test\n",
    "mod_2 = dec_tree.fit(m_train_pca, n_train)\n",
    "mod_2.score(m_test_pca, n_test)"
   ]
  }
 ],
 "metadata": {
  "kernelspec": {
   "display_name": "Python 3 (ipykernel)",
   "language": "python",
   "name": "python3"
  },
  "language_info": {
   "codemirror_mode": {
    "name": "ipython",
    "version": 3
   },
   "file_extension": ".py",
   "mimetype": "text/x-python",
   "name": "python",
   "nbconvert_exporter": "python",
   "pygments_lexer": "ipython3",
   "version": "3.11.4"
  }
 },
 "nbformat": 4,
 "nbformat_minor": 5
}
